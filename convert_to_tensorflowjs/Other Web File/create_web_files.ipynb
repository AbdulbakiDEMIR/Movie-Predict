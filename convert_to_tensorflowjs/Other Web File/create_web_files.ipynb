{
 "cells": [
  {
   "cell_type": "code",
   "execution_count": null,
   "id": "56d46ff5",
   "metadata": {},
   "outputs": [
    {
     "name": "stdout",
     "output_type": "stream",
     "text": [
      "Path to dataset files: C:\\Users\\baki_\\.cache\\kagglehub\\datasets\\parasharmanas\\movie-recommendation-system\\versions\\1\n"
     ]
    }
   ],
   "source": [
    "import kagglehub\n",
    "import pandas as pd"
   ]
  },
  {
   "cell_type": "code",
   "execution_count": null,
   "id": "edccca9d",
   "metadata": {},
   "outputs": [],
   "source": [
    "import json\n",
    "import re\n",
    "\n",
    "def parse_title_year(title_with_year):\n",
    "    year_match = re.search(r'\\((\\d{4})\\)', title_with_year)\n",
    "    year = int(year_match.group(1)) if year_match else None\n",
    "    title = re.sub(r'\\s*\\(\\d{4}\\)', '', title_with_year).strip()\n",
    "    return title, year\n",
    "\n",
    "def df_to_json_arrays(df):\n",
    "    json_array = []\n",
    "    json_movie_encoder = []\n",
    "    json_genres = set()  # daha hızlı kontrol için set kullanıyoruz\n",
    "\n",
    "    for _, row in df.iterrows():\n",
    "        movie_id = int(row[\"movieId\"])\n",
    "        title_with_year = row[\"title\"]\n",
    "        genres_str = row[\"genres\"]\n",
    "\n",
    "        title, year = parse_title_year(title_with_year)\n",
    "        genres = genres_str.split('|')\n",
    "\n",
    "        if year is not None:\n",
    "            movie_dict = {\n",
    "                \"movieId\": movie_id,\n",
    "                \"title\": title,\n",
    "                \"year\": year,\n",
    "                \"genres\": genres\n",
    "            }\n",
    "            json_array.append(movie_dict)\n",
    "            json_movie_encoder.append(movie_id)\n",
    "            json_genres.update(genres)\n",
    "\n",
    "    return json_array, json_movie_encoder, list(json_genres)\n",
    "\n",
    "\n",
    "def write_js_variable(file_name, variable_name, data):\n",
    "    with open(file_name, 'w', encoding='utf-8') as f:\n",
    "        f.write(f\"export const {variable_name} = \")\n",
    "        json.dump(data, f, indent=2, ensure_ascii=False)\n",
    "        f.write(\";\")\n",
    "\n",
    "path = kagglehub.dataset_download(\"parasharmanas/movie-recommendation-system\")\n",
    "\n",
    "df = pd.read_csv(path+\"/movies.csv\")\n",
    "json_data, json_movie_encoder, json_genres = df_to_json_arrays(df)\n",
    "\n",
    "\n",
    "write_js_variable('movies.js', 'movies', json_data)\n",
    "write_js_variable('mlb_classes.js', 'mlb_classes', json_genres)\n",
    "write_js_variable('movie_encoder.js', 'movie_encoder', json_movie_encoder)"
   ]
  }
 ],
 "metadata": {
  "kernelspec": {
   "display_name": "kaggle_import",
   "language": "python",
   "name": "python3"
  },
  "language_info": {
   "codemirror_mode": {
    "name": "ipython",
    "version": 3
   },
   "file_extension": ".py",
   "mimetype": "text/x-python",
   "name": "python",
   "nbconvert_exporter": "python",
   "pygments_lexer": "ipython3",
   "version": "3.10.18"
  }
 },
 "nbformat": 4,
 "nbformat_minor": 5
}
