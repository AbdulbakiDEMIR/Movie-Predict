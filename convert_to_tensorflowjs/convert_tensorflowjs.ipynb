{
 "cells": [
  {
   "cell_type": "code",
   "execution_count": 1,
   "id": "b3aea983",
   "metadata": {},
   "outputs": [
    {
     "data": {
      "text/plain": [
       "CompletedProcess(args=['tensorflowjs_converter', '--input_format=tf_saved_model', '--output_format=tfjs_graph_model', './saved_model_dir', './final_model'], returncode=0)"
      ]
     },
     "execution_count": 1,
     "metadata": {},
     "output_type": "execute_result"
    }
   ],
   "source": [
    "import subprocess\n",
    "\n",
    "input_path = './saved_model_dir'\n",
    "output_path = './final_model'\n",
    "\n",
    "command = [\n",
    "    'tensorflowjs_converter',\n",
    "    '--input_format=tf_saved_model',\n",
    "    '--output_format=tfjs_graph_model',\n",
    "    input_path,\n",
    "    output_path\n",
    "]\n",
    "\n",
    "# Komutu çalıştır\n",
    "subprocess.run(command, check=True)"
   ]
  }
 ],
 "metadata": {
  "kernelspec": {
   "display_name": "tfjs_env",
   "language": "python",
   "name": "python3"
  },
  "language_info": {
   "codemirror_mode": {
    "name": "ipython",
    "version": 3
   },
   "file_extension": ".py",
   "mimetype": "text/x-python",
   "name": "python",
   "nbconvert_exporter": "python",
   "pygments_lexer": "ipython3",
   "version": "3.10.18"
  }
 },
 "nbformat": 4,
 "nbformat_minor": 5
}
