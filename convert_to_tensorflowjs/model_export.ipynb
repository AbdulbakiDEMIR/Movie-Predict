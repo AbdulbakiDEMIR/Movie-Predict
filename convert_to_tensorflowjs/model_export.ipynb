{
 "cells": [
  {
   "cell_type": "code",
   "execution_count": 1,
   "id": "ba8453d6",
   "metadata": {},
   "outputs": [
    {
     "name": "stderr",
     "output_type": "stream",
     "text": [
      "WARNING:absl:Compiled the loaded model, but the compiled metrics have yet to be built. `model.compile_metrics` will be empty until you train or evaluate the model.\n"
     ]
    },
    {
     "name": "stdout",
     "output_type": "stream",
     "text": [
      "✅ H5 modeli başarıyla yüklendi.\n",
      "INFO:tensorflow:Assets written to: saved_model_dir\\assets\n"
     ]
    },
    {
     "name": "stderr",
     "output_type": "stream",
     "text": [
      "INFO:tensorflow:Assets written to: saved_model_dir\\assets\n"
     ]
    },
    {
     "name": "stdout",
     "output_type": "stream",
     "text": [
      "Saved artifact at 'saved_model_dir'. The following endpoints are available:\n",
      "\n",
      "* Endpoint 'serve'\n",
      "  args_0 (POSITIONAL_ONLY): List[TensorSpec(shape=(None, 1), dtype=tf.float32, name='user_input'), TensorSpec(shape=(None, 1), dtype=tf.float32, name='movie_input'), TensorSpec(shape=(None, 19), dtype=tf.float32, name='genre_input')]\n",
      "Output Type:\n",
      "  TensorSpec(shape=(None, 1), dtype=tf.float32, name=None)\n",
      "Captures:\n",
      "  2696177729600: TensorSpec(shape=(), dtype=tf.resource, name=None)\n",
      "  2696104846336: TensorSpec(shape=(), dtype=tf.resource, name=None)\n",
      "  2696104649904: TensorSpec(shape=(), dtype=tf.resource, name=None)\n",
      "  2696177738752: TensorSpec(shape=(), dtype=tf.resource, name=None)\n",
      "  2696177731888: TensorSpec(shape=(), dtype=tf.resource, name=None)\n",
      "  2696177736464: TensorSpec(shape=(), dtype=tf.resource, name=None)\n",
      "  2696177734880: TensorSpec(shape=(), dtype=tf.resource, name=None)\n",
      "  2696177739104: TensorSpec(shape=(), dtype=tf.resource, name=None)\n",
      "  2696177739280: TensorSpec(shape=(), dtype=tf.resource, name=None)\n",
      "  2696177739632: TensorSpec(shape=(), dtype=tf.resource, name=None)\n",
      "✅ SavedModel formatında klasöre kaydedildi: saved_model_dir\n"
     ]
    }
   ],
   "source": [
    "from tensorflow.keras.models import load_model\n",
    "\n",
    "# .h5 modelini yükle\n",
    "model = load_model(\"movie_predict_model.h5\")\n",
    "print(\"✅ H5 modeli başarıyla yüklendi.\")\n",
    "\n",
    "# SavedModel formatına dönüştür ve klasöre kaydet\n",
    "model.export(\"saved_model_dir\")\n",
    "print(\"✅ SavedModel formatında klasöre kaydedildi: saved_model_dir\")"
   ]
  }
 ],
 "metadata": {
  "kernelspec": {
   "display_name": "movie_predict",
   "language": "python",
   "name": "python3"
  },
  "language_info": {
   "codemirror_mode": {
    "name": "ipython",
    "version": 3
   },
   "file_extension": ".py",
   "mimetype": "text/x-python",
   "name": "python",
   "nbconvert_exporter": "python",
   "pygments_lexer": "ipython3",
   "version": "3.10.18"
  }
 },
 "nbformat": 4,
 "nbformat_minor": 5
}
