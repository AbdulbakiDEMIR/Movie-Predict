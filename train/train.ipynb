{
 "cells": [
  {
   "cell_type": "code",
   "execution_count": 1,
   "id": "ba8453d6",
   "metadata": {},
   "outputs": [
    {
     "name": "stderr",
     "output_type": "stream",
     "text": [
      "c:\\Users\\baki_\\.conda\\envs\\movie_predict\\lib\\site-packages\\tqdm\\auto.py:21: TqdmWarning: IProgress not found. Please update jupyter and ipywidgets. See https://ipywidgets.readthedocs.io/en/stable/user_install.html\n",
      "  from .autonotebook import tqdm as notebook_tqdm\n"
     ]
    }
   ],
   "source": [
    "import kagglehub\n",
    "import pandas as pd\n",
    "import numpy as np\n",
    "import pickle\n",
    "from sklearn.preprocessing import LabelEncoder, MultiLabelBinarizer\n",
    "from tensorflow.keras.models import Model\n",
    "from tensorflow.keras.layers import Input, Embedding, Flatten, Concatenate, Dense, Dropout\n",
    "from tensorflow.keras.optimizers import Adam\n",
    "from tensorflow.keras.losses import Huber\n",
    "from tensorflow.keras.callbacks import EarlyStopping"
   ]
  },
  {
   "cell_type": "code",
   "execution_count": null,
   "id": "a478ffd6",
   "metadata": {},
   "outputs": [],
   "source": [
    "# === 1. VERİ YÜKLEME ===\n",
    "path = kagglehub.dataset_download(\"parasharmanas/movie-recommendation-system\")\n",
    "movies = pd.read_csv(path+\"/movies.csv\")\n",
    "ratings = pd.read_csv(path+\"/ratings.csv\")"
   ]
  },
  {
   "cell_type": "code",
   "execution_count": 3,
   "id": "6718403b",
   "metadata": {},
   "outputs": [],
   "source": [
    "# === 2. VERİ HAZIRLAMA ===\n",
    "data = ratings.merge(movies, on=\"movieId\")\n",
    "data[\"genres\"] = data[\"genres\"].apply(lambda x: x.split('|'))"
   ]
  },
  {
   "cell_type": "code",
   "execution_count": 4,
   "id": "5bd0271d",
   "metadata": {},
   "outputs": [],
   "source": [
    "# Encode user/movie\n",
    "user_encoder = LabelEncoder()\n",
    "movie_encoder = LabelEncoder()\n",
    "data[\"user_enc\"] = user_encoder.fit_transform(data[\"userId\"])\n",
    "data[\"movie_enc\"] = movie_encoder.fit_transform(data[\"movieId\"])"
   ]
  },
  {
   "cell_type": "code",
   "execution_count": 5,
   "id": "419377c3",
   "metadata": {},
   "outputs": [],
   "source": [
    "# Genre vectorizer\n",
    "mlb = MultiLabelBinarizer()\n",
    "genre_matrix = mlb.fit_transform(data[\"genres\"])"
   ]
  },
  {
   "cell_type": "code",
   "execution_count": 6,
   "id": "3aa72b27",
   "metadata": {},
   "outputs": [],
   "source": [
    "# Eğitim girdileri\n",
    "user_ids = data[\"user_enc\"].values\n",
    "movie_ids = data[\"movie_enc\"].values\n",
    "ratings_val = data[\"rating\"].values"
   ]
  },
  {
   "cell_type": "code",
   "execution_count": 7,
   "id": "9e67abca",
   "metadata": {},
   "outputs": [],
   "source": [
    "# === 3. MODEL MİMARİSİ ===\n",
    "num_users = data[\"user_enc\"].nunique()\n",
    "num_movies = data[\"movie_enc\"].nunique()\n",
    "num_genres = genre_matrix.shape[1]\n",
    "\n",
    "user_input = Input(shape=(1,), name=\"user_input\")\n",
    "movie_input = Input(shape=(1,), name=\"movie_input\")\n",
    "genre_input = Input(shape=(num_genres,), name=\"genre_input\")\n",
    "\n",
    "user_vec = Flatten()(Embedding(num_users, 64)(user_input))\n",
    "movie_vec = Flatten()(Embedding(num_movies, 64)(movie_input))\n",
    "\n",
    "x = Concatenate()([user_vec, movie_vec, genre_input])\n",
    "x = Dense(128, activation=\"relu\")(x)\n",
    "x = Dropout(0.4)(x)\n",
    "x = Dense(64, activation=\"relu\")(x)\n",
    "x = Dropout(0.3)(x)\n",
    "x = Dense(32, activation=\"relu\")(x)\n",
    "output = Dense(1, name=\"rating_output\")(x)\n",
    "\n",
    "model = Model(inputs=[user_input, movie_input, genre_input], outputs=output)\n",
    "model.compile(optimizer=Adam(learning_rate=0.0003), loss=Huber())"
   ]
  },
  {
   "cell_type": "code",
   "execution_count": 8,
   "id": "17898a16",
   "metadata": {},
   "outputs": [],
   "source": [
    "# === 4. ERKEN DURDURMA ===\n",
    "early_stop = EarlyStopping(monitor=\"val_loss\", patience=3, restore_best_weights=True)"
   ]
  },
  {
   "cell_type": "code",
   "execution_count": null,
   "id": "7a20a43c",
   "metadata": {},
   "outputs": [],
   "source": [
    "# === 5. MODEL EĞİTİMİ ===\n",
    "model.fit(\n",
    "    [user_ids, movie_ids, genre_matrix],\n",
    "    ratings_val,\n",
    "    epochs=20,\n",
    "    batch_size=256,\n",
    "    validation_split=0.2,\n",
    "    verbose=1,\n",
    "    callbacks=[early_stop]\n",
    ")"
   ]
  },
  {
   "cell_type": "code",
   "execution_count": null,
   "id": "9c7faa04",
   "metadata": {},
   "outputs": [],
   "source": [
    "# === 6. MODEL VE ENCODER'LARI KAYDET ===\n",
    "model.save(\"movie_predict_model.h5\")\n",
    "print(\"✅ Model kaydedildi: movie_predict_model.h5\")\n",
    "\n",
    "with open(\"movie_encoder.pkl\", \"wb\") as f:\n",
    "    pickle.dump(movie_encoder, f)\n",
    "with open(\"mlb.pkl\", \"wb\") as f:\n",
    "    pickle.dump(mlb, f)\n",
    "print(\"✅ movie_encoder.pkl ve mlb.pkl kaydedildi.\")\n"
   ]
  }
 ],
 "metadata": {
  "kernelspec": {
   "display_name": "movie_predict",
   "language": "python",
   "name": "python3"
  },
  "language_info": {
   "codemirror_mode": {
    "name": "ipython",
    "version": 3
   },
   "file_extension": ".py",
   "mimetype": "text/x-python",
   "name": "python",
   "nbconvert_exporter": "python",
   "pygments_lexer": "ipython3",
   "version": "3.10.18"
  }
 },
 "nbformat": 4,
 "nbformat_minor": 5
}
